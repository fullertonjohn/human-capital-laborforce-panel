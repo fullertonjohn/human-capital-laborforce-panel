{
 "cells": [
  {
   "cell_type": "code",
   "execution_count": null,
   "id": "57dfa199",
   "metadata": {},
   "outputs": [],
   "source": [
    "import os, sys\n",
    "import platform\n",
    "print(\"Python:\", sys.version)\n",
    "print(\"Platform:\", platform.platform())\n",
    "print(\"Working Directory:\", os.getcwd())"
   ]
  },
  {
   "cell_type": "code",
   "execution_count": null,
   "id": "06d4cac7",
   "metadata": {},
   "outputs": [],
   "source": [
    "import os\n",
    "#manually added my FRED API key as an enivronment variable\n",
    "print(bool(os.getenv(\"FRED_API_KEY\")))"
   ]
  },
  {
   "cell_type": "code",
   "execution_count": null,
   "id": "96d589ac",
   "metadata": {},
   "outputs": [],
   "source": [
    "import pandas as pd\n",
    "from fredapi import Fred\n",
    "fred = Fred()\n",
    "# national labor force participation rate (CIVPART)\n",
    "series = fred.get_series(\"CIVPART\") \n",
    "print(series.index.min(), \"->\", series.index.max())\n",
    "print(\"Observations:\", series.shape[0])"
   ]
  },
  {
   "cell_type": "code",
   "execution_count": null,
   "id": "e0ce4404",
   "metadata": {},
   "outputs": [],
   "source": [
    "from fredapi import Fred\n",
    "import pandas as pd\n",
    "\n",
    "fred = Fred()\n",
    "\n",
    "STATE_NAMES = [\n",
    "    \"Alabama\",\"Alaska\",\"Arizona\",\"Arkansas\",\"California\",\"Colorado\",\"Connecticut\",\"Delaware\",\"Florida\",\"Georgia\",\n",
    "    \"Hawaii\",\"Idaho\",\"Illinois\",\"Indiana\",\"Iowa\",\"Kansas\",\"Kentucky\",\"Louisiana\",\"Maine\",\"Maryland\",\n",
    "    \"Massachusetts\",\"Michigan\",\"Minnesota\",\"Mississippi\",\"Missouri\",\"Montana\",\"Nebraska\",\"Nevada\",\"New Hampshire\",\"New Jersey\",\n",
    "    \"New Mexico\",\"New York\",\"North Carolina\",\"North Dakota\",\"Ohio\",\"Oklahoma\",\"Oregon\",\"Pennsylvania\",\"Rhode Island\",\"South Carolina\",\n",
    "    \"South Dakota\",\"Tennessee\",\"Texas\",\"Utah\",\"Vermont\",\"Virginia\",\"Washington\",\"West Virginia\",\"Wisconsin\",\"Wyoming\",\"District of Columbia\"\n",
    "]"
   ]
  },
  {
   "cell_type": "code",
   "execution_count": null,
   "id": "9a49fe58",
   "metadata": {},
   "outputs": [],
   "source": [
    "# State-level official FIPS codes for standardization\n",
    "STATE_FIPS = {\n",
    "    \"AL\": \"01\",\"AK\": \"02\",\"AZ\": \"04\",\"AR\": \"05\",\"CA\": \"06\",\"CO\": \"08\",\"CT\": \"09\",\"DE\": \"10\",\"DC\": \"11\",\"FL\": \"12\",\n",
    "    \"GA\": \"13\",\"HI\": \"15\",\"ID\": \"16\",\"IL\": \"17\",\"IN\": \"18\",\"IA\": \"19\",\"KS\": \"20\",\"KY\": \"21\",\"LA\": \"22\",\"ME\": \"23\",\n",
    "    \"MD\": \"24\",\"MA\": \"25\",\"MI\": \"26\",\"MN\": \"27\",\"MS\": \"28\",\"MO\": \"29\",\"MT\": \"30\",\"NE\": \"31\",\"NV\": \"32\",\"NH\": \"33\",\n",
    "    \"NJ\": \"34\",\"NM\": \"35\",\"NY\": \"36\",\"NC\": \"37\",\"ND\": \"38\",\"OH\": \"39\",\"OK\": \"40\",\"OR\": \"41\",\"PA\": \"42\",\"RI\": \"44\",\n",
    "    \"SC\": \"45\",\"SD\": \"46\",\"TN\": \"47\",\"TX\": \"48\",\"UT\": \"49\",\"VT\": \"50\",\"VA\": \"51\",\"WA\": \"53\",\"WV\": \"54\",\"WI\": \"55\",\"WY\": \"56\"\n",
    "}\n",
    "\n",
    "#Generate the name of the data series used by FRED based on state abbrevation\n",
    "def state_lfp_series_id_from_fips(state_abbr: str) -> str:\n",
    "    \"\"\"\n",
    "    Build the seasonally-adjusted Labor Force Participation Rate series ID for a state.\n",
    "    Pattern: 'LBSSA' + 2-digit FIPS (e.g., MI=26 -> 'LBSSA26').\n",
    "    \"\"\"\n",
    "    fips = STATE_FIPS.get(state_abbr)\n",
    "    if fips is None:\n",
    "        raise ValueError(f\"No FIPS for state abbr {state_abbr}\")\n",
    "    return f\"LBSSA{fips}\"\n",
    "\n",
    "#Pull the series from FRED API, return yearly LFPR average\n",
    "def get_state_lfp(state_name: str, state_abbr: str, start_year: int = 2010, end_year: int = 2018):\n",
    "    sid = state_lfp_series_id_from_fips(state_abbr)\n",
    "\n",
    "    # Constrain the data fetch to appropriate range\n",
    "    s = fred.get_series(\n",
    "        sid,\n",
    "        observation_start=f\"{start_year}-01-01\",\n",
    "        observation_end=f\"{end_year}-12-31\"\n",
    "    )\n",
    "\n",
    "    if s is None or s.empty:\n",
    "        print(f\"No data for {state_name} ({state_abbr})\")\n",
    "        return None\n",
    "\n",
    "    s.index = pd.to_datetime(s.index)\n",
    "    # compute annual average from monthly\n",
    "    annual = s.resample(\"YE\").mean().to_frame(name=\"lfp_sa\")\n",
    "    annual[\"year\"] = annual.index.year\n",
    "    annual[\"state_abbr\"] = state_abbr\n",
    "    return annual[[\"state_abbr\", \"year\", \"lfp_sa\"]]\n",
    "\n",
    "#test on my two favorite states..\n",
    "mi = get_state_lfp(\"Michigan\", \"MI\")\n",
    "ma = get_state_lfp(\"Massachusetts\", \"MA\")\n",
    "display(mi.tail())\n",
    "display(ma.tail())"
   ]
  },
  {
   "cell_type": "code",
   "execution_count": null,
   "id": "8dc169e2",
   "metadata": {},
   "outputs": [],
   "source": [
    "# building state-level LFP panel (2010–2019)\n",
    "import time\n",
    "all_states = []\n",
    "STATE_ABBRS = [\n",
    "    \"AL\",\"AK\",\"AZ\",\"AR\",\"CA\",\"CO\",\"CT\",\"DE\",\"FL\",\"GA\",\n",
    "    \"HI\",\"ID\",\"IL\",\"IN\",\"IA\",\"KS\",\"KY\",\"LA\",\"ME\",\"MD\",\n",
    "    \"MA\",\"MI\",\"MN\",\"MS\",\"MO\",\"MT\",\"NE\",\"NV\",\"NH\",\"NJ\",\n",
    "    \"NM\",\"NY\",\"NC\",\"ND\",\"OH\",\"OK\",\"OR\",\"PA\",\"RI\",\"SC\",\n",
    "    \"SD\",\"TN\",\"TX\",\"UT\",\"VT\",\"VA\",\"WA\",\"WV\",\"WI\",\"WY\",\"DC\"\n",
    "]\n",
    "STATE_MAP = list(zip(STATE_NAMES, STATE_ABBRS))\n",
    "\n",
    "for name, abbr in STATE_MAP:\n",
    "    try:\n",
    "        df = get_state_lfp(name, abbr)\n",
    "        time.sleep(1)\n",
    "        if df is not None and not df.empty:\n",
    "            all_states.append(df)\n",
    "        else:\n",
    "            print(f\"Skipped{name}\")\n",
    "    except Exception as e:\n",
    "        print(f\"Error with {name} ({abbr}):\", e)\n",
    "\n",
    "lfp_panel = pd.concat(all_states, ignore_index=True)\n",
    "print(\"Shape:\", lfp_panel.shape)\n",
    "print(lfp_panel.head())\n",
    "\n",
    "# save to data folder\n",
    "out_path = \"../data/lfp_state_year.csv\"\n",
    "lfp_panel.to_csv(out_path, index= False)\n",
    "print(\"Saved file to:\", out_path)"
   ]
  },
  {
   "cell_type": "markdown",
   "id": "036b8acc",
   "metadata": {},
   "source": []
  },
  {
   "cell_type": "code",
   "execution_count": null,
   "id": "53d11768",
   "metadata": {},
   "outputs": [],
   "source": [
    "import os\n",
    "print(os.getcwd())"
   ]
  },
  {
   "cell_type": "code",
   "execution_count": null,
   "id": "56e34fc3",
   "metadata": {},
   "outputs": [],
   "source": [
    "# U.S. Census ACS 1-year “S1501: Educational Attainment” data scraping\n",
    "import pandas as pd\n",
    "import requests\n",
    "\n",
    "# map Census state FIPS -> Previous state abbreviation for correct alignment\n",
    "FIPS_TO_ABBR = {\n",
    "    \"01\":\"AL\",\"02\":\"AK\",\"04\":\"AZ\",\"05\":\"AR\",\"06\":\"CA\",\"08\":\"CO\",\"09\":\"CT\",\"10\":\"DE\",\"11\":\"DC\",\"12\":\"FL\",\n",
    "    \"13\":\"GA\",\"15\":\"HI\",\"16\":\"ID\",\"17\":\"IL\",\"18\":\"IN\",\"19\":\"IA\",\"20\":\"KS\",\"21\":\"KY\",\"22\":\"LA\",\"23\":\"ME\",\n",
    "    \"24\":\"MD\",\"25\":\"MA\",\"26\":\"MI\",\"27\":\"MN\",\"28\":\"MS\",\"29\":\"MO\",\"30\":\"MT\",\"31\":\"NE\",\"32\":\"NV\",\"33\":\"NH\",\n",
    "    \"34\":\"NJ\",\"35\":\"NM\",\"36\":\"NY\",\"37\":\"NC\",\"38\":\"ND\",\"39\":\"OH\",\"40\":\"OK\",\"41\":\"OR\",\"42\":\"PA\",\"44\":\"RI\",\n",
    "    \"45\":\"SC\",\"46\":\"SD\",\"47\":\"TN\",\"48\":\"TX\",\"49\":\"UT\",\"50\":\"VT\",\"51\":\"VA\",\"53\":\"WA\",\"54\":\"WV\",\"55\":\"WI\",\"56\":\"WY\"\n",
    "}\n",
    "\n",
    "def fetch_bachelors_share_year(year: int) -> pd.DataFrame:\n",
    "    \"\"\"\n",
    "    ACS 1-year subject table S1501 (Educational Attainment).\n",
    "    S1501_C02_015E = Percent age 25+ with Bachelor's degree or higher (estimate).\n",
    "    \"\"\"\n",
    "    import pandas as pd, requests\n",
    "\n",
    "    url = f\"https://api.census.gov/data/{year}/acs/acs1/subject\"\n",
    "    params = {\n",
    "        \"get\": \"NAME,S1501_C02_015E\",\n",
    "        \"for\": \"state:*\"\n",
    "    }\n",
    "    r = requests.get(url, params=params, timeout=30)\n",
    "    print(\"Requested:\", r.url)\n",
    "    r.raise_for_status()\n",
    "\n",
    "    data = r.json()\n",
    "    cols = data[0] # [\"NAME\",\"S1501_C02_015E\",\"state\"]\n",
    "    rows = data[1:]\n",
    "    df = pd.DataFrame(rows, columns=cols)\n",
    "\n",
    "    # clean up\n",
    "    df = df.rename(columns={\"state\": \"state_fips\"})\n",
    "    df[\"bachelors_share\"] = pd.to_numeric(df[\"S1501_C02_015E\"], errors=\"coerce\")\n",
    "    df[\"state_abbr\"] = df[\"state_fips\"].map(FIPS_TO_ABBR)\n",
    "    df[\"year\"] = year\n",
    "\n",
    "    out = df[[\"state_abbr\", \"year\", \"bachelors_share\"]].dropna(subset=[\"state_abbr\"])\n",
    "    return out\n",
    "\n",
    "\n",
    "# --- test for 2015 ---\n",
    "edu_2015 = fetch_bachelors_share_year(2015)\n",
    "edu_2015.head()"
   ]
  },
  {
   "cell_type": "code",
   "execution_count": null,
   "id": "e472d793",
   "metadata": {},
   "outputs": [],
   "source": [
    "#education by state, save to panel\n",
    "import pandas as pd\n",
    "\n",
    "years = list(range(2010,2019))\n",
    "frames = []\n",
    "\n",
    "for y in years: \n",
    "    try: \n",
    "        df = fetch_bachelors_share_year(y)\n",
    "        print(f\"Year {y}: {df.shape[0]} rows\")\n",
    "        frames.append(df)\n",
    "    except Exception as e: \n",
    "        print(f\"Skipped {y} due to error {e}\")\n",
    "edu_panel = pd.concat(frames, ignore_index= True)\n",
    "print(\"Total rows:\", edu_panel.shape[0])\n",
    "print(edu_panel.head())"
   ]
  },
  {
   "cell_type": "code",
   "execution_count": null,
   "id": "5224d02f",
   "metadata": {},
   "outputs": [],
   "source": [
    "lfp_panel[\"year\"].unique()"
   ]
  },
  {
   "cell_type": "code",
   "execution_count": null,
   "id": "b7b3177f",
   "metadata": {},
   "outputs": [],
   "source": [
    "# Save ACS education panel (2010–2018)\n",
    "edu_panel.to_csv(\"../data/edu_state_year.csv\", index=False) \n",
    "print(\"Saved: ../data/edu_state_year.csv\")"
   ]
  },
  {
   "cell_type": "code",
   "execution_count": null,
   "id": "9f15e12f",
   "metadata": {},
   "outputs": [],
   "source": [
    "#merge the two data sets by month\n",
    "merged = pd.merge(lfp_panel, edu_panel, on=[\"state_abbr\", \"year\"], how=\"inner\")\n",
    "print(\"Merged shape:\", merged.shape)\n",
    "merged.head()"
   ]
  },
  {
   "cell_type": "code",
   "execution_count": null,
   "id": "fbd6d09f",
   "metadata": {},
   "outputs": [],
   "source": [
    "#data analysis\n",
    "# data preview\n",
    "print(\"Shape:\", merged.shape)\n",
    "print(\"\\nColumn types:\")\n",
    "print(merged.dtypes)\n",
    "\n",
    "print(\"\\nMissing values per column:\")\n",
    "print(merged.isna().sum())\n",
    "\n",
    "print(\"\\nSummary statistics:\")\n",
    "print(merged.describe())\n",
    "\n",
    "# Check time coverage\n",
    "print(\"\\nYears:\", merged['year'].unique())\n",
    "print(\"\\nStates:\", merged['state_abbr'].nunique())\n"
   ]
  },
  {
   "cell_type": "code",
   "execution_count": null,
   "id": "ec666199",
   "metadata": {},
   "outputs": [],
   "source": [
    "merged.to_csv(\"../data/merged_state_panel.csv\", index=False)\n",
    "print(\"Merged dataset exported successfully to ../data/merged_state_panel.csv\")\n"
   ]
  }
 ],
 "metadata": {
  "kernelspec": {
   "display_name": "Python 3",
   "language": "python",
   "name": "python3"
  },
  "language_info": {
   "codemirror_mode": {
    "name": "ipython",
    "version": 3
   },
   "file_extension": ".py",
   "mimetype": "text/x-python",
   "name": "python",
   "nbconvert_exporter": "python",
   "pygments_lexer": "ipython3",
   "version": "3.13.1"
  }
 },
 "nbformat": 4,
 "nbformat_minor": 5
}
