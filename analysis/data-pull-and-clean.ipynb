{
 "cells": [
  {
   "cell_type": "code",
   "execution_count": 1,
   "id": "57dfa199",
   "metadata": {},
   "outputs": [
    {
     "name": "stdout",
     "output_type": "stream",
     "text": [
      "Python: 3.13.1 (tags/v3.13.1:0671451, Dec  3 2024, 19:06:28) [MSC v.1942 64 bit (AMD64)]\n",
      "Platform: Windows-11-10.0.26100-SP0\n",
      "Working Directory: c:\\Users\\fulle\\Desktop\\human-capital-laborforce-panel\\analysis\n"
     ]
    }
   ],
   "source": [
    "import os, sys\n",
    "import platform\n",
    "print(\"Python:\", sys.version)\n",
    "print(\"Platform:\", platform.platform())\n",
    "print(\"Working Directory:\", os.getcwd())"
   ]
  },
  {
   "cell_type": "code",
   "execution_count": 2,
   "id": "06d4cac7",
   "metadata": {},
   "outputs": [
    {
     "name": "stdout",
     "output_type": "stream",
     "text": [
      "True\n"
     ]
    }
   ],
   "source": [
    "import os\n",
    "#manually added my FRED API key as an enivronment variable\n",
    "print(bool(os.getenv(\"FRED_API_KEY\")))"
   ]
  },
  {
   "cell_type": "code",
   "execution_count": null,
   "id": "e0ce4404",
   "metadata": {},
   "outputs": [],
   "source": [
    "from fredapi import Fred\n",
    "import pandas as pd\n",
    "\n",
    "fred = Fred()\n",
    "\n",
    "STATE_NAMES = [\n",
    "    \"Alabama\",\"Alaska\",\"Arizona\",\"Arkansas\",\"California\",\"Colorado\",\"Connecticut\",\"Delaware\",\"Florida\",\"Georgia\",\n",
    "    \"Hawaii\",\"Idaho\",\"Illinois\",\"Indiana\",\"Iowa\",\"Kansas\",\"Kentucky\",\"Louisiana\",\"Maine\",\"Maryland\",\n",
    "    \"Massachusetts\",\"Michigan\",\"Minnesota\",\"Mississippi\",\"Missouri\",\"Montana\",\"Nebraska\",\"Nevada\",\"New Hampshire\",\"New Jersey\",\n",
    "    \"New Mexico\",\"New York\",\"North Carolina\",\"North Dakota\",\"Ohio\",\"Oklahoma\",\"Oregon\",\"Pennsylvania\",\"Rhode Island\",\"South Carolina\",\n",
    "    \"South Dakota\",\"Tennessee\",\"Texas\",\"Utah\",\"Vermont\",\"Virginia\",\"Washington\",\"West Virginia\",\"Wisconsin\",\"Wyoming\",\"District of Columbia\"\n",
    "]"
   ]
  },
  {
   "cell_type": "code",
   "execution_count": null,
   "id": "9a49fe58",
   "metadata": {},
   "outputs": [
    {
     "data": {
      "text/html": [
       "<div>\n",
       "<style scoped>\n",
       "    .dataframe tbody tr th:only-of-type {\n",
       "        vertical-align: middle;\n",
       "    }\n",
       "\n",
       "    .dataframe tbody tr th {\n",
       "        vertical-align: top;\n",
       "    }\n",
       "\n",
       "    .dataframe thead th {\n",
       "        text-align: right;\n",
       "    }\n",
       "</style>\n",
       "<table border=\"1\" class=\"dataframe\">\n",
       "  <thead>\n",
       "    <tr style=\"text-align: right;\">\n",
       "      <th></th>\n",
       "      <th>state_abbr</th>\n",
       "      <th>year</th>\n",
       "      <th>lfp_sa</th>\n",
       "    </tr>\n",
       "  </thead>\n",
       "  <tbody>\n",
       "    <tr>\n",
       "      <th>2015-12-31</th>\n",
       "      <td>MI</td>\n",
       "      <td>2015</td>\n",
       "      <td>60.366667</td>\n",
       "    </tr>\n",
       "    <tr>\n",
       "      <th>2016-12-31</th>\n",
       "      <td>MI</td>\n",
       "      <td>2016</td>\n",
       "      <td>61.250000</td>\n",
       "    </tr>\n",
       "    <tr>\n",
       "      <th>2017-12-31</th>\n",
       "      <td>MI</td>\n",
       "      <td>2017</td>\n",
       "      <td>61.425000</td>\n",
       "    </tr>\n",
       "    <tr>\n",
       "      <th>2018-12-31</th>\n",
       "      <td>MI</td>\n",
       "      <td>2018</td>\n",
       "      <td>61.591667</td>\n",
       "    </tr>\n",
       "    <tr>\n",
       "      <th>2019-12-31</th>\n",
       "      <td>MI</td>\n",
       "      <td>2019</td>\n",
       "      <td>61.883333</td>\n",
       "    </tr>\n",
       "  </tbody>\n",
       "</table>\n",
       "</div>"
      ],
      "text/plain": [
       "           state_abbr  year     lfp_sa\n",
       "2015-12-31         MI  2015  60.366667\n",
       "2016-12-31         MI  2016  61.250000\n",
       "2017-12-31         MI  2017  61.425000\n",
       "2018-12-31         MI  2018  61.591667\n",
       "2019-12-31         MI  2019  61.883333"
      ]
     },
     "metadata": {},
     "output_type": "display_data"
    },
    {
     "data": {
      "text/html": [
       "<div>\n",
       "<style scoped>\n",
       "    .dataframe tbody tr th:only-of-type {\n",
       "        vertical-align: middle;\n",
       "    }\n",
       "\n",
       "    .dataframe tbody tr th {\n",
       "        vertical-align: top;\n",
       "    }\n",
       "\n",
       "    .dataframe thead th {\n",
       "        text-align: right;\n",
       "    }\n",
       "</style>\n",
       "<table border=\"1\" class=\"dataframe\">\n",
       "  <thead>\n",
       "    <tr style=\"text-align: right;\">\n",
       "      <th></th>\n",
       "      <th>state_abbr</th>\n",
       "      <th>year</th>\n",
       "      <th>lfp_sa</th>\n",
       "    </tr>\n",
       "  </thead>\n",
       "  <tbody>\n",
       "    <tr>\n",
       "      <th>2015-12-31</th>\n",
       "      <td>MA</td>\n",
       "      <td>2015</td>\n",
       "      <td>65.200000</td>\n",
       "    </tr>\n",
       "    <tr>\n",
       "      <th>2016-12-31</th>\n",
       "      <td>MA</td>\n",
       "      <td>2016</td>\n",
       "      <td>65.250000</td>\n",
       "    </tr>\n",
       "    <tr>\n",
       "      <th>2017-12-31</th>\n",
       "      <td>MA</td>\n",
       "      <td>2017</td>\n",
       "      <td>65.966667</td>\n",
       "    </tr>\n",
       "    <tr>\n",
       "      <th>2018-12-31</th>\n",
       "      <td>MA</td>\n",
       "      <td>2018</td>\n",
       "      <td>67.141667</td>\n",
       "    </tr>\n",
       "    <tr>\n",
       "      <th>2019-12-31</th>\n",
       "      <td>MA</td>\n",
       "      <td>2019</td>\n",
       "      <td>67.225000</td>\n",
       "    </tr>\n",
       "  </tbody>\n",
       "</table>\n",
       "</div>"
      ],
      "text/plain": [
       "           state_abbr  year     lfp_sa\n",
       "2015-12-31         MA  2015  65.200000\n",
       "2016-12-31         MA  2016  65.250000\n",
       "2017-12-31         MA  2017  65.966667\n",
       "2018-12-31         MA  2018  67.141667\n",
       "2019-12-31         MA  2019  67.225000"
      ]
     },
     "metadata": {},
     "output_type": "display_data"
    }
   ],
   "source": [
    "# State-level official FIPS codes for standardization\n",
    "STATE_FIPS = {\n",
    "    \"AL\": \"01\",\"AK\": \"02\",\"AZ\": \"04\",\"AR\": \"05\",\"CA\": \"06\",\"CO\": \"08\",\"CT\": \"09\",\"DE\": \"10\",\"DC\": \"11\",\"FL\": \"12\",\n",
    "    \"GA\": \"13\",\"HI\": \"15\",\"ID\": \"16\",\"IL\": \"17\",\"IN\": \"18\",\"IA\": \"19\",\"KS\": \"20\",\"KY\": \"21\",\"LA\": \"22\",\"ME\": \"23\",\n",
    "    \"MD\": \"24\",\"MA\": \"25\",\"MI\": \"26\",\"MN\": \"27\",\"MS\": \"28\",\"MO\": \"29\",\"MT\": \"30\",\"NE\": \"31\",\"NV\": \"32\",\"NH\": \"33\",\n",
    "    \"NJ\": \"34\",\"NM\": \"35\",\"NY\": \"36\",\"NC\": \"37\",\"ND\": \"38\",\"OH\": \"39\",\"OK\": \"40\",\"OR\": \"41\",\"PA\": \"42\",\"RI\": \"44\",\n",
    "    \"SC\": \"45\",\"SD\": \"46\",\"TN\": \"47\",\"TX\": \"48\",\"UT\": \"49\",\"VT\": \"50\",\"VA\": \"51\",\"WA\": \"53\",\"WV\": \"54\",\"WI\": \"55\",\"WY\": \"56\"\n",
    "}\n",
    "\n",
    "#Generate the name of the data series used by FRED based on state abbrevation\n",
    "def state_lfp_series_id_from_fips(state_abbr: str) -> str:\n",
    "    \"\"\"\n",
    "    Constructing LBSSA series name ('LBSSA' + 2-digit FIPS)\n",
    "    \"\"\"\n",
    "    fips = STATE_FIPS.get(state_abbr)\n",
    "    if fips is None:\n",
    "        raise ValueError(f\"No FIPS for state abbr {state_abbr}\")\n",
    "    return f\"LBSSA{fips}\"\n",
    "\n",
    "#Pull the series from FRED API, return yearly LFPR average\n",
    "def get_state_lfp(state_name: str, state_abbr: str, start_year: int = 2010, end_year: int = 2019):\n",
    "    sid = state_lfp_series_id_from_fips(state_abbr)\n",
    "\n",
    "    # Constrain the data fetch to appropriate range\n",
    "    s = fred.get_series(\n",
    "        sid,\n",
    "        observation_start=f\"{start_year}-01-01\",\n",
    "        observation_end=f\"{end_year}-12-31\"\n",
    "    )\n",
    "\n",
    "    if s is None or s.empty:\n",
    "        print(f\"No data for {state_name} ({state_abbr})\")\n",
    "        return None\n",
    "\n",
    "    s.index = pd.to_datetime(s.index)\n",
    "    # compute annual average from monthly\n",
    "    annual = s.resample(\"YE\").mean().to_frame(name=\"lfp_sa\")\n",
    "    annual[\"year\"] = annual.index.year\n",
    "    annual[\"state_abbr\"] = state_abbr\n",
    "    return annual[[\"state_abbr\", \"year\", \"lfp_sa\"]]\n",
    "\n",
    "#test on my two favorite states :)\n",
    "mi = get_state_lfp(\"Michigan\", \"MI\")\n",
    "ma = get_state_lfp(\"Massachusetts\", \"MA\")\n",
    "display(mi.tail())\n",
    "display(ma.tail())"
   ]
  },
  {
   "cell_type": "code",
   "execution_count": 6,
   "id": "8dc169e2",
   "metadata": {},
   "outputs": [
    {
     "name": "stdout",
     "output_type": "stream",
     "text": [
      "Shape: (510, 3)\n",
      "  state_abbr  year     lfp_sa\n",
      "0         AL  2010  59.800000\n",
      "1         AL  2011  59.425000\n",
      "2         AL  2012  58.325000\n",
      "3         AL  2013  57.683333\n",
      "4         AL  2014  56.950000\n",
      "Saved file to: ../data/lfp_state_year.csv\n"
     ]
    }
   ],
   "source": [
    "# building state-level LFP panel (2010–2019)\n",
    "import time\n",
    "all_states = []\n",
    "STATE_ABBRS = [\n",
    "    \"AL\",\"AK\",\"AZ\",\"AR\",\"CA\",\"CO\",\"CT\",\"DE\",\"FL\",\"GA\",\n",
    "    \"HI\",\"ID\",\"IL\",\"IN\",\"IA\",\"KS\",\"KY\",\"LA\",\"ME\",\"MD\",\n",
    "    \"MA\",\"MI\",\"MN\",\"MS\",\"MO\",\"MT\",\"NE\",\"NV\",\"NH\",\"NJ\",\n",
    "    \"NM\",\"NY\",\"NC\",\"ND\",\"OH\",\"OK\",\"OR\",\"PA\",\"RI\",\"SC\",\n",
    "    \"SD\",\"TN\",\"TX\",\"UT\",\"VT\",\"VA\",\"WA\",\"WV\",\"WI\",\"WY\",\"DC\"\n",
    "]\n",
    "STATE_MAP = list(zip(STATE_NAMES, STATE_ABBRS))\n",
    "\n",
    "for name, abbr in STATE_MAP:\n",
    "    try:\n",
    "        df = get_state_lfp(name, abbr)\n",
    "        time.sleep(1)\n",
    "        if df is not None and not df.empty:\n",
    "            all_states.append(df)\n",
    "        else:\n",
    "            print(f\"Skipped{name}\")\n",
    "    except Exception as e:\n",
    "        print(f\"Error with {name} ({abbr}):\", e)\n",
    "\n",
    "lfp_panel = pd.concat(all_states, ignore_index=True)\n",
    "print(\"Shape:\", lfp_panel.shape)\n",
    "print(lfp_panel.head())\n",
    "\n",
    "# save to data folder\n",
    "out_path = \"../data/lfp_state_year.csv\"\n",
    "lfp_panel.to_csv(out_path, index= False)\n",
    "print(\"Saved file to:\", out_path)"
   ]
  },
  {
   "cell_type": "markdown",
   "id": "036b8acc",
   "metadata": {},
   "source": []
  },
  {
   "cell_type": "code",
   "execution_count": 7,
   "id": "53d11768",
   "metadata": {},
   "outputs": [
    {
     "name": "stdout",
     "output_type": "stream",
     "text": [
      "c:\\Users\\fulle\\Desktop\\human-capital-laborforce-panel\\analysis\n"
     ]
    }
   ],
   "source": [
    "import os\n",
    "print(os.getcwd())"
   ]
  },
  {
   "cell_type": "code",
   "execution_count": 8,
   "id": "56e34fc3",
   "metadata": {},
   "outputs": [
    {
     "name": "stdout",
     "output_type": "stream",
     "text": [
      "Requested: https://api.census.gov/data/2015/acs/acs1/subject?get=NAME%2CS1501_C02_015E&for=state%3A%2A\n"
     ]
    },
    {
     "data": {
      "text/html": [
       "<div>\n",
       "<style scoped>\n",
       "    .dataframe tbody tr th:only-of-type {\n",
       "        vertical-align: middle;\n",
       "    }\n",
       "\n",
       "    .dataframe tbody tr th {\n",
       "        vertical-align: top;\n",
       "    }\n",
       "\n",
       "    .dataframe thead th {\n",
       "        text-align: right;\n",
       "    }\n",
       "</style>\n",
       "<table border=\"1\" class=\"dataframe\">\n",
       "  <thead>\n",
       "    <tr style=\"text-align: right;\">\n",
       "      <th></th>\n",
       "      <th>state_abbr</th>\n",
       "      <th>year</th>\n",
       "      <th>bachelors_share</th>\n",
       "    </tr>\n",
       "  </thead>\n",
       "  <tbody>\n",
       "    <tr>\n",
       "      <th>0</th>\n",
       "      <td>MS</td>\n",
       "      <td>2015</td>\n",
       "      <td>20.8</td>\n",
       "    </tr>\n",
       "    <tr>\n",
       "      <th>1</th>\n",
       "      <td>MO</td>\n",
       "      <td>2015</td>\n",
       "      <td>27.8</td>\n",
       "    </tr>\n",
       "    <tr>\n",
       "      <th>2</th>\n",
       "      <td>MT</td>\n",
       "      <td>2015</td>\n",
       "      <td>30.6</td>\n",
       "    </tr>\n",
       "    <tr>\n",
       "      <th>3</th>\n",
       "      <td>NE</td>\n",
       "      <td>2015</td>\n",
       "      <td>30.2</td>\n",
       "    </tr>\n",
       "    <tr>\n",
       "      <th>4</th>\n",
       "      <td>NV</td>\n",
       "      <td>2015</td>\n",
       "      <td>23.6</td>\n",
       "    </tr>\n",
       "  </tbody>\n",
       "</table>\n",
       "</div>"
      ],
      "text/plain": [
       "  state_abbr  year  bachelors_share\n",
       "0         MS  2015             20.8\n",
       "1         MO  2015             27.8\n",
       "2         MT  2015             30.6\n",
       "3         NE  2015             30.2\n",
       "4         NV  2015             23.6"
      ]
     },
     "execution_count": 8,
     "metadata": {},
     "output_type": "execute_result"
    }
   ],
   "source": [
    "# U.S. Census ACS 1-year “S1501: Educational Attainment” data scraping\n",
    "import pandas as pd\n",
    "import requests\n",
    "\n",
    "# map Census state FIPS -> Previous state abbreviation for correct alignment\n",
    "FIPS_TO_ABBR = {\n",
    "    \"01\":\"AL\",\"02\":\"AK\",\"04\":\"AZ\",\"05\":\"AR\",\"06\":\"CA\",\"08\":\"CO\",\"09\":\"CT\",\"10\":\"DE\",\"11\":\"DC\",\"12\":\"FL\",\n",
    "    \"13\":\"GA\",\"15\":\"HI\",\"16\":\"ID\",\"17\":\"IL\",\"18\":\"IN\",\"19\":\"IA\",\"20\":\"KS\",\"21\":\"KY\",\"22\":\"LA\",\"23\":\"ME\",\n",
    "    \"24\":\"MD\",\"25\":\"MA\",\"26\":\"MI\",\"27\":\"MN\",\"28\":\"MS\",\"29\":\"MO\",\"30\":\"MT\",\"31\":\"NE\",\"32\":\"NV\",\"33\":\"NH\",\n",
    "    \"34\":\"NJ\",\"35\":\"NM\",\"36\":\"NY\",\"37\":\"NC\",\"38\":\"ND\",\"39\":\"OH\",\"40\":\"OK\",\"41\":\"OR\",\"42\":\"PA\",\"44\":\"RI\",\n",
    "    \"45\":\"SC\",\"46\":\"SD\",\"47\":\"TN\",\"48\":\"TX\",\"49\":\"UT\",\"50\":\"VT\",\"51\":\"VA\",\"53\":\"WA\",\"54\":\"WV\",\"55\":\"WI\",\"56\":\"WY\"\n",
    "}\n",
    "\n",
    "def fetch_bachelors_share_year(year: int) -> pd.DataFrame:\n",
    "    \"\"\"\n",
    "    ACS 1-year table S1501\n",
    "    S1501_C02_015E = Percent age 25+ with Bachelor's degree or higher (estimate)\n",
    "    \"\"\"\n",
    "    import pandas as pd, requests\n",
    "\n",
    "    url = f\"https://api.census.gov/data/{year}/acs/acs1/subject\"\n",
    "    params = {\n",
    "        \"get\": \"NAME,S1501_C02_015E\",\n",
    "        \"for\": \"state:*\"\n",
    "    }\n",
    "    r = requests.get(url, params=params, timeout=30)\n",
    "    print(\"Requested:\", r.url)\n",
    "    r.raise_for_status()\n",
    "\n",
    "    data = r.json()\n",
    "    cols = data[0] # [\"NAME\",\"S1501_C02_015E\",\"state\"]\n",
    "    rows = data[1:]\n",
    "    df = pd.DataFrame(rows, columns=cols)\n",
    "\n",
    "    # clean up\n",
    "    df = df.rename(columns={\"state\": \"state_fips\"})\n",
    "    df[\"bachelors_share\"] = pd.to_numeric(df[\"S1501_C02_015E\"], errors=\"coerce\")\n",
    "    df[\"state_abbr\"] = df[\"state_fips\"].map(FIPS_TO_ABBR)\n",
    "    df[\"year\"] = year\n",
    "\n",
    "    out = df[[\"state_abbr\", \"year\", \"bachelors_share\"]].dropna(subset=[\"state_abbr\"])\n",
    "    return out\n",
    "\n",
    "\n",
    "# --- test for 2015 ---\n",
    "edu_2015 = fetch_bachelors_share_year(2015)\n",
    "edu_2015.head()"
   ]
  },
  {
   "cell_type": "code",
   "execution_count": 9,
   "id": "e472d793",
   "metadata": {},
   "outputs": [
    {
     "name": "stdout",
     "output_type": "stream",
     "text": [
      "Requested: https://api.census.gov/data/2010/acs/acs1/subject?get=NAME%2CS1501_C02_015E&for=state%3A%2A\n",
      "Year 2010: 51 rows\n",
      "Requested: https://api.census.gov/data/2011/acs/acs1/subject?get=NAME%2CS1501_C02_015E&for=state%3A%2A\n",
      "Year 2011: 51 rows\n",
      "Requested: https://api.census.gov/data/2012/acs/acs1/subject?get=NAME%2CS1501_C02_015E&for=state%3A%2A\n",
      "Year 2012: 51 rows\n",
      "Requested: https://api.census.gov/data/2013/acs/acs1/subject?get=NAME%2CS1501_C02_015E&for=state%3A%2A\n",
      "Year 2013: 51 rows\n",
      "Requested: https://api.census.gov/data/2014/acs/acs1/subject?get=NAME%2CS1501_C02_015E&for=state%3A%2A\n",
      "Year 2014: 51 rows\n",
      "Requested: https://api.census.gov/data/2015/acs/acs1/subject?get=NAME%2CS1501_C02_015E&for=state%3A%2A\n",
      "Year 2015: 51 rows\n",
      "Requested: https://api.census.gov/data/2016/acs/acs1/subject?get=NAME%2CS1501_C02_015E&for=state%3A%2A\n",
      "Year 2016: 51 rows\n",
      "Requested: https://api.census.gov/data/2017/acs/acs1/subject?get=NAME%2CS1501_C02_015E&for=state%3A%2A\n",
      "Year 2017: 51 rows\n",
      "Requested: https://api.census.gov/data/2018/acs/acs1/subject?get=NAME%2CS1501_C02_015E&for=state%3A%2A\n",
      "Year 2018: 51 rows\n",
      "Requested: https://api.census.gov/data/2019/acs/acs1/subject?get=NAME%2CS1501_C02_015E&for=state%3A%2A\n",
      "Year 2019: 51 rows\n",
      "Total rows: 510\n",
      "  state_abbr  year  bachelors_share\n",
      "0         AL  2010             22.0\n",
      "1         AK  2010             26.3\n",
      "2         AZ  2010             27.1\n",
      "3         AR  2010             19.9\n",
      "4         CA  2010             30.5\n"
     ]
    }
   ],
   "source": [
    "#education by state, save to panel\n",
    "import pandas as pd\n",
    "#end-exclusive\n",
    "years = list(range(2010,2020))\n",
    "frames = []\n",
    "\n",
    "for y in years: \n",
    "    try: \n",
    "        df = fetch_bachelors_share_year(y)\n",
    "        print(f\"Year {y}: {df.shape[0]} rows\")\n",
    "        frames.append(df)\n",
    "    except Exception as e: \n",
    "        print(f\"Skipped {y} due to error {e}\")\n",
    "edu_panel = pd.concat(frames, ignore_index= True)\n",
    "print(\"Total rows:\", edu_panel.shape[0])\n",
    "print(edu_panel.head())"
   ]
  },
  {
   "cell_type": "code",
   "execution_count": 10,
   "id": "5224d02f",
   "metadata": {},
   "outputs": [
    {
     "data": {
      "text/plain": [
       "array([2010, 2011, 2012, 2013, 2014, 2015, 2016, 2017, 2018, 2019],\n",
       "      dtype=int32)"
      ]
     },
     "execution_count": 10,
     "metadata": {},
     "output_type": "execute_result"
    }
   ],
   "source": [
    "lfp_panel[\"year\"].unique()"
   ]
  },
  {
   "cell_type": "code",
   "execution_count": 11,
   "id": "b7b3177f",
   "metadata": {},
   "outputs": [
    {
     "name": "stdout",
     "output_type": "stream",
     "text": [
      "Saved: ../data/edu_state_year.csv\n"
     ]
    }
   ],
   "source": [
    "# Save ACS education panel (2010–2018)\n",
    "edu_panel.to_csv(\"../data/edu_state_year.csv\", index=False) \n",
    "print(\"Saved: ../data/edu_state_year.csv\")"
   ]
  },
  {
   "cell_type": "code",
   "execution_count": 12,
   "id": "9f15e12f",
   "metadata": {},
   "outputs": [
    {
     "name": "stdout",
     "output_type": "stream",
     "text": [
      "Merged shape: (510, 4)\n"
     ]
    },
    {
     "data": {
      "text/html": [
       "<div>\n",
       "<style scoped>\n",
       "    .dataframe tbody tr th:only-of-type {\n",
       "        vertical-align: middle;\n",
       "    }\n",
       "\n",
       "    .dataframe tbody tr th {\n",
       "        vertical-align: top;\n",
       "    }\n",
       "\n",
       "    .dataframe thead th {\n",
       "        text-align: right;\n",
       "    }\n",
       "</style>\n",
       "<table border=\"1\" class=\"dataframe\">\n",
       "  <thead>\n",
       "    <tr style=\"text-align: right;\">\n",
       "      <th></th>\n",
       "      <th>state_abbr</th>\n",
       "      <th>year</th>\n",
       "      <th>lfp_sa</th>\n",
       "      <th>bachelors_share</th>\n",
       "    </tr>\n",
       "  </thead>\n",
       "  <tbody>\n",
       "    <tr>\n",
       "      <th>0</th>\n",
       "      <td>AL</td>\n",
       "      <td>2010</td>\n",
       "      <td>59.800000</td>\n",
       "      <td>22.0</td>\n",
       "    </tr>\n",
       "    <tr>\n",
       "      <th>1</th>\n",
       "      <td>AL</td>\n",
       "      <td>2011</td>\n",
       "      <td>59.425000</td>\n",
       "      <td>22.2</td>\n",
       "    </tr>\n",
       "    <tr>\n",
       "      <th>2</th>\n",
       "      <td>AL</td>\n",
       "      <td>2012</td>\n",
       "      <td>58.325000</td>\n",
       "      <td>23.4</td>\n",
       "    </tr>\n",
       "    <tr>\n",
       "      <th>3</th>\n",
       "      <td>AL</td>\n",
       "      <td>2013</td>\n",
       "      <td>57.683333</td>\n",
       "      <td>23.3</td>\n",
       "    </tr>\n",
       "    <tr>\n",
       "      <th>4</th>\n",
       "      <td>AL</td>\n",
       "      <td>2014</td>\n",
       "      <td>56.950000</td>\n",
       "      <td>23.1</td>\n",
       "    </tr>\n",
       "  </tbody>\n",
       "</table>\n",
       "</div>"
      ],
      "text/plain": [
       "  state_abbr  year     lfp_sa  bachelors_share\n",
       "0         AL  2010  59.800000             22.0\n",
       "1         AL  2011  59.425000             22.2\n",
       "2         AL  2012  58.325000             23.4\n",
       "3         AL  2013  57.683333             23.3\n",
       "4         AL  2014  56.950000             23.1"
      ]
     },
     "execution_count": 12,
     "metadata": {},
     "output_type": "execute_result"
    }
   ],
   "source": [
    "#merge the two data sets by month\n",
    "merged = pd.merge(lfp_panel, edu_panel, on=[\"state_abbr\", \"year\"], how=\"inner\")\n",
    "print(\"Merged shape:\", merged.shape)\n",
    "merged.head()"
   ]
  },
  {
   "cell_type": "code",
   "execution_count": 13,
   "id": "fbd6d09f",
   "metadata": {},
   "outputs": [
    {
     "name": "stdout",
     "output_type": "stream",
     "text": [
      "Shape: (510, 4)\n",
      "\n",
      "Column types:\n",
      "state_abbr          object\n",
      "year                 int32\n",
      "lfp_sa             float64\n",
      "bachelors_share    float64\n",
      "dtype: object\n",
      "\n",
      "Missing values per column:\n",
      "state_abbr         0\n",
      "year               0\n",
      "lfp_sa             0\n",
      "bachelors_share    0\n",
      "dtype: int64\n",
      "\n",
      "Summary statistics:\n",
      "              year      lfp_sa  bachelors_share\n",
      "count   510.000000  510.000000       510.000000\n",
      "mean   2014.500000   64.121389        30.129608\n",
      "std       2.875101    4.051861         6.440278\n",
      "min    2010.000000   53.308333        17.300000\n",
      "25%    2012.000000   61.366667        25.900000\n",
      "50%    2014.500000   63.970833        29.200000\n",
      "75%    2017.000000   67.377083        33.200000\n",
      "max    2019.000000   72.975000        60.400000\n",
      "\n",
      "Years: [2010 2011 2012 2013 2014 2015 2016 2017 2018 2019]\n",
      "\n",
      "States: 51\n"
     ]
    }
   ],
   "source": [
    "#data analysis\n",
    "# data preview\n",
    "print(\"Shape:\", merged.shape)\n",
    "print(\"\\nColumn types:\")\n",
    "print(merged.dtypes)\n",
    "\n",
    "print(\"\\nMissing values per column:\")\n",
    "print(merged.isna().sum())\n",
    "\n",
    "print(\"\\nSummary statistics:\")\n",
    "print(merged.describe())\n",
    "\n",
    "# Check time coverage\n",
    "print(\"\\nYears:\", merged['year'].unique())\n",
    "print(\"\\nStates:\", merged['state_abbr'].nunique())\n"
   ]
  },
  {
   "cell_type": "code",
   "execution_count": 14,
   "id": "ec666199",
   "metadata": {},
   "outputs": [
    {
     "name": "stdout",
     "output_type": "stream",
     "text": [
      "Merged dataset exported successfully to ../data/merged_state_panel.csv\n"
     ]
    }
   ],
   "source": [
    "merged.to_csv(\"../data/merged_state_panel.csv\", index=False)\n",
    "print(\"Merged dataset exported successfully to ../data/merged_state_panel.csv\")\n"
   ]
  }
 ],
 "metadata": {
  "kernelspec": {
   "display_name": "Python 3",
   "language": "python",
   "name": "python3"
  },
  "language_info": {
   "codemirror_mode": {
    "name": "ipython",
    "version": 3
   },
   "file_extension": ".py",
   "mimetype": "text/x-python",
   "name": "python",
   "nbconvert_exporter": "python",
   "pygments_lexer": "ipython3",
   "version": "3.13.1"
  }
 },
 "nbformat": 4,
 "nbformat_minor": 5
}
